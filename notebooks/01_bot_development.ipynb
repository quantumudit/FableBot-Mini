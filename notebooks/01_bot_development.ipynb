{
 "cells": [
  {
   "cell_type": "markdown",
   "metadata": {},
   "source": [
    "# Textbot\n",
    "\n",
    "A chatbot that answers queries related to the given text documents \n"
   ]
  },
  {
   "cell_type": "markdown",
   "metadata": {},
   "source": [
    "## Setup"
   ]
  },
  {
   "cell_type": "code",
   "execution_count": 1,
   "metadata": {},
   "outputs": [],
   "source": [
    "import os\n",
    "from dotenv import load_dotenv\n",
    "\n",
    "load_dotenv()\n",
    "\n",
    "OPENAI_API_KEY = os.getenv(\"OPENAI_KEY\")"
   ]
  },
  {
   "cell_type": "code",
   "execution_count": 2,
   "metadata": {},
   "outputs": [],
   "source": [
    "# Imports\n",
    "\n",
    "from langchain.vectorstores import Chroma\n",
    "from langchain.embeddings import OpenAIEmbeddings\n",
    "from langchain.text_splitter import RecursiveCharacterTextSplitter\n",
    "from langchain.llms import OpenAI\n",
    "from langchain.chains import RetrievalQA\n",
    "from langchain.document_loaders import TextLoader\n",
    "from langchain.document_loaders import DirectoryLoader\n"
   ]
  },
  {
   "cell_type": "code",
   "execution_count": 3,
   "metadata": {},
   "outputs": [],
   "source": [
    "# Other imports\n",
    "from os.path import normpath"
   ]
  },
  {
   "cell_type": "markdown",
   "metadata": {},
   "source": [
    "## Load Documents & Process Documents\n",
    "\n",
    "In this stage, we are going to load the text documents from the directory using the\n",
    "`DirectoryLoaded` method"
   ]
  },
  {
   "cell_type": "markdown",
   "metadata": {},
   "source": [
    "### Load Documents"
   ]
  },
  {
   "cell_type": "code",
   "execution_count": 7,
   "metadata": {},
   "outputs": [
    {
     "name": "stdout",
     "output_type": "stream",
     "text": [
      "The type of the documents object is: <class 'list'>\n",
      "Number of text documents loaded: 3\n"
     ]
    }
   ],
   "source": [
    "dir_path = normpath(\"./data/\")\n",
    "loader = DirectoryLoader(dir_path, glob=\"./*.txt\", loader_cls=TextLoader)\n",
    "\n",
    "# Load the documents\n",
    "documents = loader.load()"
   ]
  },
  {
   "cell_type": "code",
   "execution_count": 13,
   "metadata": {},
   "outputs": [
    {
     "name": "stdout",
     "output_type": "stream",
     "text": [
      "The type of the documents object is: <class 'list'>\n",
      "Number of text documents loaded: 3\n"
     ]
    }
   ],
   "source": [
    "# View info about document object\n",
    "print(f\"The type of the documents object is: {type(documents)}\")\n",
    "print(f\"Number of text documents loaded: {len(documents)}\")"
   ]
  },
  {
   "cell_type": "markdown",
   "metadata": {},
   "source": [
    "### Process Documents\n",
    "\n",
    "The `RecursiveCharacterTextSplitter` can be used to split the dcouments into chunks and\n",
    "make it ready for the use of LLMs\n",
    "\n"
   ]
  },
  {
   "cell_type": "code",
   "execution_count": 11,
   "metadata": {},
   "outputs": [
    {
     "name": "stdout",
     "output_type": "stream",
     "text": [
      "The type of the documents object is: <class 'list'>\n",
      "Total number of text chunks created: 49\n"
     ]
    }
   ],
   "source": [
    "# Create splitter object\n",
    "text_splitter = RecursiveCharacterTextSplitter(chunk_size=1000, chunk_overlap=200)\n",
    "\n",
    "# Apply splitter object on the documents\n",
    "texts = text_splitter.split_documents(documents)"
   ]
  },
  {
   "cell_type": "code",
   "execution_count": 12,
   "metadata": {},
   "outputs": [
    {
     "name": "stdout",
     "output_type": "stream",
     "text": [
      "The type of the documents object is: <class 'list'>\n",
      "Total number of text chunks created: 49\n"
     ]
    }
   ],
   "source": [
    "# View info about texts object\n",
    "print(f\"The type of the documents object is: {type(texts)}\")\n",
    "print(f\"Total number of text chunks created: {len(texts)}\")\n"
   ]
  },
  {
   "cell_type": "markdown",
   "metadata": {},
   "source": [
    "## Create Vector Database\n",
    "\n",
    "The vector database is created using the `Chroma`. The vector database is used to store\n",
    "the text embeddings.\n",
    "\n",
    "Supplying a directory path to the `persist_directory` argument, saves the vector \n",
    "database on the disk.\n",
    "\n",
    "To create text embeddings, we'll be using the OpenAI embeddings."
   ]
  },
  {
   "cell_type": "code",
   "execution_count": 14,
   "metadata": {},
   "outputs": [],
   "source": [
    "# Vector database directory\n",
    "db_path = normpath(\"./chromadb/\")\n",
    "\n",
    "# Create text embedding object with OpenAI\n",
    "embedding = OpenAIEmbeddings(openai_api_key=OPENAI_API_KEY)\n",
    "\n",
    "# Create the vector database using Chroma and save the embeddings in the vector database\n",
    "vector_db = Chroma.from_documents(documents=texts, embedding=embedding, persist_directory=db_path)"
   ]
  },
  {
   "cell_type": "markdown",
   "metadata": {},
   "source": [
    "## Load Vector Database\n",
    "\n",
    "Since, we have created the `vector_db` in the previous cell and in the same runtime. So, \n",
    "we can now access the embeddings. But, in practical scenarios, we first create the\n",
    "embeddings and store them in a vector database; so that, we can load it anytime we need \n",
    "and use it.\n",
    "\n",
    "To ensure that, let's make the `vector_db` none and load it from the directory."
   ]
  },
  {
   "cell_type": "code",
   "execution_count": 15,
   "metadata": {},
   "outputs": [],
   "source": [
    "# persist the db to disk\n",
    "vector_db.persist()\n",
    "\n",
    "# Clearing the vector_db data from memory\n",
    "vector_db = None"
   ]
  },
  {
   "cell_type": "code",
   "execution_count": 16,
   "metadata": {},
   "outputs": [],
   "source": [
    "# Load the persisted database from the disk\n",
    "vector_db = Chroma(persist_directory=db_path, embedding_function=embedding)"
   ]
  },
  {
   "cell_type": "markdown",
   "metadata": {},
   "source": [
    "## Create Retriever\n",
    "\n",
    "By default, the retriever object returns top $4$ text chunks as reference based on\n",
    "the similarity. We can change it as follows:"
   ]
  },
  {
   "cell_type": "code",
   "execution_count": 17,
   "metadata": {},
   "outputs": [],
   "source": [
    "# create a retriever object\n",
    "retriever = vector_db.as_retriever()"
   ]
  },
  {
   "cell_type": "code",
   "execution_count": 27,
   "metadata": {},
   "outputs": [
    {
     "name": "stdout",
     "output_type": "stream",
     "text": [
      "Number of relevant text chunks: 4\n"
     ]
    }
   ],
   "source": [
    "# View number of documents returned\n",
    "docs = retriever.get_relevant_documents(\"Who is aladin?\")\n",
    "\n",
    "# View the number of chunks returns\n",
    "print(f\"Number of relevant text chunks: {len(docs)}\")"
   ]
  },
  {
   "cell_type": "code",
   "execution_count": 28,
   "metadata": {},
   "outputs": [
    {
     "data": {
      "text/plain": [
       "[Document(page_content='THE ADVENTURES OF ALADDIN', metadata={'source': 'data\\\\aladin.txt'}),\n",
       " Document(page_content='an old lamp, Aladdin wondered. Perhaps he was a wizard. He decided to be on \\nhis guard. Picking up the lamp, he retraced his steps up to the entrance.\\n   \"Give me the lamp,\" urged the wizard impatiently. \"Hand it over,\" he began\\nto shout, thrusting out his arm to grab it, but Aladdin cautiously drew back.\\n   \"Let me out first . . .\"\\n   \"Too bad for you,\" snapped the stranger, slamming down the manhole cover, \\nnever noticing that, as he did so, a ring slid off his finger. A terrified \\nAladdin was left in pitch darkness, wondering what the wizard would do next. \\nThen he trod on the ring. Aimlessly putting it on his finger, he twisted it \\nround and round. Suddenly the room was flooded with a rosy light and a great \\ngenie with clasped hands appeared on a cloud.\\n   \"At your command, sire,\" said the genie.\\n   Now astoundede, Aladdin could only stammer:\\n   \"I want to go home!\" In a flash he was back in his own home, though the \\ndoor wa tightly shut.', metadata={'source': 'data\\\\aladin.txt'}),\n",
       " Document(page_content='Once upon a time . . . a widow had an only son whose name was Aladdin. They\\nwere very poor and lived from hand to mouth, though Aladdin did what he could \\nto earn some pennies, by picking bananas in faraway places. \\n   One day, as he was looking for wild figs in a grove some way from the town,\\nAladdin met a mysterious stranger. This smartly dressed dark-eyed man with a \\ntrim black beard and a splendid sapphire in his turban, asked Aladdin an \\nunusual question: \\n   \"Come here, boy,\" he ordered. \"How would you like to earn a silver penny?\" \\n   \"A silver penny!\" exclaimed Aladdin. \"Sir, I\\'d do anything for that kind of\\npayment.\" \\n   \"I\\'m not going to ask you to do much. Just go down that manhole. I\\'m much \\ntoo big to squeeze through myself. If you do as I ask, you\\'ll have your \\nreward.\" The stranger helped Aladdin lift the manhole cover, for it was very \\nheavy. Slim and agile as he was, the boy easily went down. His feet touched', metadata={'source': 'data\\\\aladin.txt'}),\n",
       " Document(page_content='Chamberlain broke in with a question. \\n   \"Where wlll they live?\" he asked. The Sultan pondered for a moment, then\\nallowlng greed to get the better of hlm, he told Aladdin to build a great, \\nsplendid palace for Halima. Aladdin went straight home and, in what was once a\\nwilderness, the genie built him a palace. The last obstacle had been overcome.\\nThe wedding tbok place with great celebrations and the Sultan was especially\\nhappy at finding such a rich and powerful son-in-law. \\n   News of Aladdin\\'s sudden fortune and wealth spread like wildfire, until....\\none day, a strange merchant stopped beneath the palace window.\\n   \"Old lamps for new,\" he called to the princess, standing on the balcony. \\nNow, Aladdin had always kept his secret to himself. Only his mother knew it \\nand she had never told a soul. Halima, alas, had been kept in the dark. And \\nso, now, wanting to give Alladin a surprise as well  as make a good bargain,', metadata={'source': 'data\\\\aladin.txt'})]"
      ]
     },
     "execution_count": 28,
     "metadata": {},
     "output_type": "execute_result"
    }
   ],
   "source": [
    "# View the docs returns based on similarity\n",
    "docs"
   ]
  },
  {
   "cell_type": "code",
   "execution_count": 37,
   "metadata": {},
   "outputs": [],
   "source": [
    "# Changing the relevant search chunks\n",
    "retriever = vector_db.as_retriever(search_kwargs={\"k\": 3})"
   ]
  },
  {
   "cell_type": "code",
   "execution_count": 38,
   "metadata": {},
   "outputs": [
    {
     "name": "stdout",
     "output_type": "stream",
     "text": [
      "Number of relevant text chunks: 3\n"
     ]
    }
   ],
   "source": [
    "# View number of documents returned\n",
    "docs = retriever.get_relevant_documents(\"Who is Pinoccioh?\")\n",
    "\n",
    "# View the number of chunks returns\n",
    "print(f\"Number of relevant text chunks: {len(docs)}\")"
   ]
  },
  {
   "cell_type": "code",
   "execution_count": 39,
   "metadata": {},
   "outputs": [
    {
     "data": {
      "text/plain": [
       "[Document(page_content='PPINOCCHIO\\n   Once upon a time... a carpenter, picked up a strange lump of wood one day \\nwhile mending a table. When he began to chip it, the wood started to moan. \\nThis frightened the carpenter and he decided to get rid of it at once, so he \\ngave it to a friend called Geppetto, who wanted to make a puppet. Geppetto, a \\ncobbler, took his lump of wood home, thinking about the name he would give his\\npuppet.\\n   \"I\\'ll call him Pinocchio,\" he told himself. \"It\\'s a lucky name.\" Back in \\nhis humble basement home and workshop, Geppetto started to carve the wood. \\nSuddenly a voice squealed:\\n   \"Ooh! That hurt!\" Geppeto was astonished to find that the wood was alive. \\nExcitedly he carved a head, hair and eyes, which immediately stared right at \\nthe cobbler. But the second Geppetto carved out the nose, it grew longer and \\nlonger, and no matter how often the cobbler cut it down to size, it just \\nstayed a long nose. The newly cut mouth began to chuckle and when Geppetto', metadata={'source': 'data\\\\pinocchio.txt'}),\n",
       " Document(page_content='spectators below began to mutter about uproar. Then out strode Giovanni, the \\npuppet-master, a frightful looking man with fierce bloodshot eyes.\\n   \"What\\'s going on here? Stop that noise! Get in line, or you\\'ll hear about \\nit later!\"\\n   That evening, Giovanni sat down to his meal, but when he found that more \\nwood was needed to finish cooking his nice chunk of meat, he remembered the \\nintruder who had upset his show.\\n   \"Come here, Pinocchio! You\\'ll make good firewood!\" The poor puppet started \\nto weep and plead. \\n   \"Save me, father! I don\\'t want to die . . . I don\\'t want to die!\" When \\nGiovanni heard Pinocchio\\'s cries, he was surprised.\\n   \"Are your parents still alive?\" he asked.\\n   \"My father is, but I\\'ve never known my mother,\" said the puppet in a low \\nvoice. The big man\\'s heart melted.\\n   \"It would be beastly for your father if I did throw you into the fire . . .\\nbut I must finish roasting the mutton. I\\'ll just have to burn another puppet.', metadata={'source': 'data\\\\pinocchio.txt'}),\n",
       " Document(page_content='for . . .\" The sudden sound of a brass band broke into the puppet\\'s daydream\\nand he soon forgot all about school. He ended up in a crowded square where \\npeople were clustering round a brightly coloured booth.\\n   \"What\\'s that?\" he asked a boy.\\n   \"Can\\'t you read? It\\'s the Great Puppet Show!\" \\n   \"How much do you pay to go inside?\" \\n   \"Fourpence.\\' \\n   \"Who\\'ll give me fourpence for this brand new book?\" Pinocchio cried. A \\nnearby junk seller bought the reading book and Pinocchio hurried into the \\nbooth. Poor Geppetto. His sacrifice had been quite in vain. Hardly had \\nPinocchio got inside, when he was seen by one of the puppets on the stage \\nwho cried out:\\n   \"There\\'s Pinocchio! There\\'s Pinocchio!\"\\n   \"Come, along. Come up here with us. Hurrah for brother Pinocchio!\" cried \\nthe puppets. Pinocchio weent onstage with his new friends, while the \\nspectators below began to mutter about uproar. Then out strode Giovanni, the \\npuppet-master, a frightful looking man with fierce bloodshot eyes.', metadata={'source': 'data\\\\pinocchio.txt'})]"
      ]
     },
     "execution_count": 39,
     "metadata": {},
     "output_type": "execute_result"
    }
   ],
   "source": [
    "# View the docs returns based on similarity\n",
    "docs"
   ]
  },
  {
   "cell_type": "code",
   "execution_count": 40,
   "metadata": {},
   "outputs": [
    {
     "name": "stdout",
     "output_type": "stream",
     "text": [
      "The retriever search type is: similarity\n",
      "The retriever search arguments are: {'k': 3}\n"
     ]
    }
   ],
   "source": [
    "print(f\"The retriever search type is: {retriever.search_type}\")\n",
    "print(f\"The retriever search arguments are: {retriever.search_kwargs}\")"
   ]
  },
  {
   "cell_type": "markdown",
   "metadata": {},
   "source": [
    "## Create Chain"
   ]
  },
  {
   "cell_type": "code",
   "execution_count": 41,
   "metadata": {},
   "outputs": [],
   "source": [
    "# Create the chain to answer questions\n",
    "\n",
    "qa_chain = RetrievalQA.from_chain_type(\n",
    "    llm = OpenAI(openai_api_key=OPENAI_API_KEY),\n",
    "    chain_type=\"stuff\",\n",
    "    retriever=retriever,\n",
    "    return_source_documents=True\n",
    ")"
   ]
  },
  {
   "cell_type": "code",
   "execution_count": 42,
   "metadata": {},
   "outputs": [],
   "source": [
    "## Cite sources\n",
    "def process_llm_response(llm_response):\n",
    "    print(llm_response[\"result\"])\n",
    "    print(\"\\n\\nSources:\")\n",
    "    for source in llm_response[\"source_documents\"]:\n",
    "        print(source.metadata[\"source\"])"
   ]
  },
  {
   "cell_type": "markdown",
   "metadata": {},
   "source": [
    "## Q&A with ChatBot"
   ]
  },
  {
   "cell_type": "code",
   "execution_count": 43,
   "metadata": {},
   "outputs": [
    {
     "name": "stdout",
     "output_type": "stream",
     "text": [
      " Pinocchio is a puppet created by Geppetto that comes to life and learns to be a good boy.\n",
      "\n",
      "\n",
      "Sources:\n",
      "data\\pinocchio.txt\n",
      "data\\pinocchio.txt\n",
      "data\\pinocchio.txt\n"
     ]
    }
   ],
   "source": [
    "query = \"Who is Pinocchio?\"\n",
    "llm_response = qa_chain(query)\n",
    "process_llm_response(llm_response)"
   ]
  },
  {
   "cell_type": "code",
   "execution_count": 44,
   "metadata": {},
   "outputs": [
    {
     "name": "stdout",
     "output_type": "stream",
     "text": [
      " The stories mentioned in the context are the story of Beauty and the Beast and the story of Pinocchio. \n",
      "\n",
      "\n",
      "Sources:\n",
      "data\\beauty_beast.txt\n",
      "data\\aladin.txt\n",
      "data\\pinocchio.txt\n"
     ]
    }
   ],
   "source": [
    "query = \"What are the different stories we have?\"\n",
    "llm_response = qa_chain(query)\n",
    "process_llm_response(llm_response)"
   ]
  },
  {
   "cell_type": "code",
   "execution_count": 45,
   "metadata": {},
   "outputs": [
    {
     "name": "stdout",
     "output_type": "stream",
     "text": [
      "\n",
      "\n",
      "The story of Pinocchio follows a carpenter named Geppetto who receives a talking piece of wood and decides to make it into a puppet. The puppet, named Pinocchio, comes to life and causes mischief with his long nose. He eventually runs away and gets involved with a puppet show, where he is reunited with his creator and learns valuable life lessons. The story also includes a frightening puppet-master, Giovanni, and a subplot about Pinocchio's search for his missing mother.\n",
      "\n",
      "\n",
      "Sources:\n",
      "data\\pinocchio.txt\n",
      "data\\pinocchio.txt\n",
      "data\\pinocchio.txt\n"
     ]
    }
   ],
   "source": [
    "query = \"Give me a brief overview of the Pinoccio story\"\n",
    "llm_response = qa_chain(query)\n",
    "process_llm_response(llm_response)"
   ]
  },
  {
   "cell_type": "code",
   "execution_count": 46,
   "metadata": {},
   "outputs": [
    {
     "name": "stdout",
     "output_type": "stream",
     "text": [
      " The Adventures of Aladdin is a classic story about a young man named Aladdin who comes across a magic lamp containing a powerful genie. With the help of the genie, Aladdin overcomes various obstacles and obtains great wealth and power. However, he must also outsmart a wicked sorcerer who wants the lamp for himself. Along the way, Aladdin falls in love with a princess and must prove himself worthy of her hand in marriage.\n",
      "\n",
      "\n",
      "Sources:\n",
      "data\\aladin.txt\n",
      "data\\aladin.txt\n",
      "data\\aladin.txt\n"
     ]
    }
   ],
   "source": [
    "query = \"Give me a brief overview of about the adventures of Aladin\"\n",
    "llm_response = qa_chain(query)\n",
    "process_llm_response(llm_response)\n"
   ]
  },
  {
   "cell_type": "code",
   "execution_count": null,
   "metadata": {},
   "outputs": [],
   "source": []
  }
 ],
 "metadata": {
  "kernelspec": {
   "display_name": ".venv",
   "language": "python",
   "name": "python3"
  },
  "language_info": {
   "codemirror_mode": {
    "name": "ipython",
    "version": 3
   },
   "file_extension": ".py",
   "mimetype": "text/x-python",
   "name": "python",
   "nbconvert_exporter": "python",
   "pygments_lexer": "ipython3",
   "version": "3.10.11"
  }
 },
 "nbformat": 4,
 "nbformat_minor": 2
}
